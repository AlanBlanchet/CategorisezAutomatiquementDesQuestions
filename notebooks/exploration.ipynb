{
 "cells": [
  {
   "attachments": {},
   "cell_type": "markdown",
   "metadata": {},
   "source": [
    "# Exploration\n",
    "\n",
    "Dans cette partie on va donc explorer nos données afin de se familiariser avec le dataset.\n",
    "\n",
    "Pour cette exploration j'utilise une variable `version` qui me permet d'avoir le même résultat par rapport à la version du script que je souhaite utiliser.\n",
    "\n",
    "En interne certaines actions sont effectuées sur le dataset suivant la version. Cela me permet de montrer ma démarche et la progression des traitements / explorations du dataset."
   ]
  },
  {
   "cell_type": "code",
   "execution_count": 4,
   "metadata": {},
   "outputs": [
    {
     "name": "stdout",
     "output_type": "stream",
     "text": [
      "The autoreload extension is already loaded. To reload it, use:\n",
      "  %reload_ext autoreload\n"
     ]
    },
    {
     "data": {
      "text/plain": [
       "src.dataset.dataset.Dataset"
      ]
     },
     "execution_count": 4,
     "metadata": {},
     "output_type": "execute_result"
    }
   ],
   "source": [
    "%load_ext autoreload\n",
    "%autoreload 2\n",
    "from src.dataset import Dataset\n",
    "import matplotlib.pyplot as plt\n",
    "\n",
    "plt.style.use(['ggplot', 'https://raw.githubusercontent.com/AlanBlanchet/matplotlib_styles/master/vscode_blue.mplstyle'])\n",
    "\n",
    "Dataset.init()"
   ]
  },
  {
   "attachments": {},
   "cell_type": "markdown",
   "metadata": {},
   "source": [
    "On peut faire une cellule de comparaison pour avoir un affichage des données brutes et des données traitées"
   ]
  },
  {
   "cell_type": "code",
   "execution_count": 11,
   "metadata": {},
   "outputs": [
    {
     "name": "stdout",
     "output_type": "stream",
     "text": [
      "Original ============================================\n",
      " I have devise authentication and registration set up on my Rails app. I'm using   to customise the redirect when the user signs in based on various scenarios. \n",
      " What I'm asking is how to test this method? It seems hard to isolate since it is called automatically by Devise when the user signes in. I want to do something like this: \n",
      " \n",
      " but that's obviously not the way to do it because I just get an error: \n",
      " \n",
      " So, how can I test this method? \n",
      "\n",
      "Parsed ==============================================\n",
      " devis authent registr set rail app . 'm use customis redirect user sign base variou scenario . 'm ask test method ? seem hard isol sinc call automat devis user sign . want someth like : 's obvious way get error : , test method ?\n"
     ]
    }
   ],
   "source": [
    "# See data examples for the specified version of the script\n",
    "Dataset.example(\"topics1.csv\", random_state=0, version=0)"
   ]
  }
 ],
 "metadata": {
  "kernelspec": {
   "display_name": "oc",
   "language": "python",
   "name": "python3"
  },
  "language_info": {
   "codemirror_mode": {
    "name": "ipython",
    "version": 3
   },
   "file_extension": ".py",
   "mimetype": "text/x-python",
   "name": "python",
   "nbconvert_exporter": "python",
   "pygments_lexer": "ipython3",
   "version": "3.9.16"
  },
  "orig_nbformat": 4
 },
 "nbformat": 4,
 "nbformat_minor": 2
}
