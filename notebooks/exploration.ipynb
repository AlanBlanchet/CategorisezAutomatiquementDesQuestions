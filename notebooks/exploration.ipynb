{
 "cells": [
  {
   "attachments": {},
   "cell_type": "markdown",
   "metadata": {},
   "source": [
    "# Exploration\n",
    "\n",
    "Dans cette partie on va donc explorer nos données afin de se familiariser avec le dataset.\n",
    "\n",
    "Pour cette exploration j'avais au départ utilisé un attribut `version` qui me permettait d'avoir le même résultat par rapport à la version du script que je souhaite utiliser. Mais j'ai changé d'avis car je commençais à avoir trop de blocks \"if\" pour checker la version du code à utiliser.\n",
    "\n",
    "En interne certaines actions étaient donc effectuées sur le dataset suivant la version. Cela me permettait de montrer ma démarche et la progression des traitements / explorations du dataset. Néanmoins maintenant je vais donc montrer les changements au fur et à mesure du notebook."
   ]
  },
  {
   "cell_type": "code",
   "execution_count": 131,
   "metadata": {},
   "outputs": [
    {
     "name": "stdout",
     "output_type": "stream",
     "text": [
      "The autoreload extension is already loaded. To reload it, use:\n",
      "  %reload_ext autoreload\n"
     ]
    },
    {
     "data": {
      "text/plain": [
       "src.dataset.dataset.Dataset"
      ]
     },
     "execution_count": 131,
     "metadata": {},
     "output_type": "execute_result"
    }
   ],
   "source": [
    "%load_ext autoreload\n",
    "%autoreload 2\n",
    "from src.dataset import Dataset\n",
    "import matplotlib.pyplot as plt\n",
    "import pandas as pd\n",
    "import cudf\n",
    "import numpy as np\n",
    "\n",
    "plt.style.use(['ggplot', 'https://raw.githubusercontent.com/AlanBlanchet/matplotlib_styles/master/vscode_blue.mplstyle'])\n",
    "\n",
    "Dataset.init()"
   ]
  },
  {
   "attachments": {},
   "cell_type": "markdown",
   "metadata": {},
   "source": [
    "On peut faire une cellule de comparaison pour avoir un affichage des données brutes et des données traitées"
   ]
  },
  {
   "cell_type": "code",
   "execution_count": 103,
   "metadata": {},
   "outputs": [
    {
     "data": {
      "text/html": [
       "<div>\n",
       "<style scoped>\n",
       "    .dataframe tbody tr th:only-of-type {\n",
       "        vertical-align: middle;\n",
       "    }\n",
       "\n",
       "    .dataframe tbody tr th {\n",
       "        vertical-align: top;\n",
       "    }\n",
       "\n",
       "    .dataframe thead th {\n",
       "        text-align: right;\n",
       "    }\n",
       "</style>\n",
       "<table border=\"1\" class=\"dataframe\">\n",
       "  <thead>\n",
       "    <tr style=\"text-align: right;\">\n",
       "      <th></th>\n",
       "      <th>title</th>\n",
       "      <th>text</th>\n",
       "      <th>target</th>\n",
       "      <th>original_text</th>\n",
       "      <th>original_title</th>\n",
       "    </tr>\n",
       "  </thead>\n",
       "  <tbody>\n",
       "    <tr>\n",
       "      <th>0</th>\n",
       "      <td>enforce attribute decoration of classes/methods</td>\n",
       "      <td>following on from my recent question on  large...</td>\n",
       "      <td>c#|xml|serialization|coding-style|.net-attributes</td>\n",
       "      <td>following on from my recent question on  large...</td>\n",
       "      <td>enforce attribute decoration of classes/methods</td>\n",
       "    </tr>\n",
       "    <tr>\n",
       "      <th>1</th>\n",
       "      <td>loading system.servicemodel configuration sect...</td>\n",
       "      <td>using c# .net 3.5 and wcf, i'm trying to write...</td>\n",
       "      <td>c#|.net|xml|wcf|configurationmanager</td>\n",
       "      <td>using c# .net 3.5 and wcf, i'm trying to write...</td>\n",
       "      <td>loading system.servicemodel configuration sect...</td>\n",
       "    </tr>\n",
       "    <tr>\n",
       "      <th>2</th>\n",
       "      <td>generics in c# &amp; accessing the static members ...</td>\n",
       "      <td>my question concerns c# and how to access stat...</td>\n",
       "      <td>c#|generics|static|methods|data-access</td>\n",
       "      <td>my question concerns c# and how to access stat...</td>\n",
       "      <td>generics in c# &amp; accessing the static members ...</td>\n",
       "    </tr>\n",
       "    <tr>\n",
       "      <th>3</th>\n",
       "      <td>how to make a histogram in ipython notebook us...</td>\n",
       "      <td>i'm trying to make a histogram of a simple lis...</td>\n",
       "      <td>python|ggplot2|ipython|jupyter-notebook|python...</td>\n",
       "      <td>i'm trying to make a histogram of a simple lis...</td>\n",
       "      <td>how to make a histogram in ipython notebook us...</td>\n",
       "    </tr>\n",
       "    <tr>\n",
       "      <th>4</th>\n",
       "      <td>implementation of the bidirectional graph search</td>\n",
       "      <td>i am trying to implement a  bi-directional gra...</td>\n",
       "      <td>java|search|graph|artificial-intelligence|bidi...</td>\n",
       "      <td>i am trying to implement a  bi-directional gra...</td>\n",
       "      <td>implementation of the bidirectional graph search</td>\n",
       "    </tr>\n",
       "  </tbody>\n",
       "</table>\n",
       "</div>"
      ],
      "text/plain": [
       "                                               title  \\\n",
       "0    enforce attribute decoration of classes/methods   \n",
       "1  loading system.servicemodel configuration sect...   \n",
       "2  generics in c# & accessing the static members ...   \n",
       "3  how to make a histogram in ipython notebook us...   \n",
       "4   implementation of the bidirectional graph search   \n",
       "\n",
       "                                                text  \\\n",
       "0  following on from my recent question on  large...   \n",
       "1  using c# .net 3.5 and wcf, i'm trying to write...   \n",
       "2  my question concerns c# and how to access stat...   \n",
       "3  i'm trying to make a histogram of a simple lis...   \n",
       "4  i am trying to implement a  bi-directional gra...   \n",
       "\n",
       "                                              target  \\\n",
       "0  c#|xml|serialization|coding-style|.net-attributes   \n",
       "1               c#|.net|xml|wcf|configurationmanager   \n",
       "2             c#|generics|static|methods|data-access   \n",
       "3  python|ggplot2|ipython|jupyter-notebook|python...   \n",
       "4  java|search|graph|artificial-intelligence|bidi...   \n",
       "\n",
       "                                       original_text  \\\n",
       "0  following on from my recent question on  large...   \n",
       "1  using c# .net 3.5 and wcf, i'm trying to write...   \n",
       "2  my question concerns c# and how to access stat...   \n",
       "3  i'm trying to make a histogram of a simple lis...   \n",
       "4  i am trying to implement a  bi-directional gra...   \n",
       "\n",
       "                                      original_title  \n",
       "0    enforce attribute decoration of classes/methods  \n",
       "1  loading system.servicemodel configuration sect...  \n",
       "2  generics in c# & accessing the static members ...  \n",
       "3  how to make a histogram in ipython notebook us...  \n",
       "4   implementation of the bidirectional graph search  "
      ]
     },
     "execution_count": 103,
     "metadata": {},
     "output_type": "execute_result"
    }
   ],
   "source": [
    "topics = Dataset(\"topics1.csv\")\n",
    "topics.df.head()"
   ]
  },
  {
   "cell_type": "code",
   "execution_count": 83,
   "metadata": {},
   "outputs": [
    {
     "data": {
      "text/plain": [
       "0    following on from my recent question on  large...\n",
       "1    using c# .net 3.5 and wcf, i'm trying to write...\n",
       "2    my question concerns c# and how to access stat...\n",
       "3    i'm trying to make a histogram of a simple lis...\n",
       "4    i am trying to implement a  bi-directional gra...\n",
       "Name: text, dtype: object"
      ]
     },
     "execution_count": 83,
     "metadata": {},
     "output_type": "execute_result"
    }
   ],
   "source": [
    "topics.df[\"text\"].head()"
   ]
  },
  {
   "cell_type": "code",
   "execution_count": null,
   "metadata": {},
   "outputs": [],
   "source": [
    "def stemming(text):\n",
    "    text = [Dataset.nltk_stemmer.stem(plural) for plural in text.split(\" \")]\n",
    "    return \" \".join(text)"
   ]
  },
  {
   "cell_type": "code",
   "execution_count": null,
   "metadata": {},
   "outputs": [],
   "source": [
    "def tokenize(text):\n",
    "    text = nltk.word_tokenize(text)\n",
    "    if version > 2:\n",
    "        text = nltk.tokenize.MWETokenizer(\n",
    "            [(\"c\", \"#\"), (\"f\", \"#\"), (\"+\", \"+\")], separator=\"\"\n",
    "        ).tokenize(text)\n",
    "    if version > 4:\n",
    "        text = [t for t in text if t not in [*cls.stopwords, \"n't\"]]\n",
    "        # Remove all single letters but keep C (as it is a language)\n",
    "        text = [\n",
    "            t for t in text if len(re.sub(r\"['\\\"]\", \"\", t)) != 1 or t == \"c\"\n",
    "        ]\n",
    "    else:\n",
    "        text = [t for t in text if t not in cls.stopwords]\n",
    "    if version > 1:\n",
    "        reg = r\"\\w+\" if version < 3 else r\"\\w+[#-+]*\"\n",
    "        text = nltk.RegexpTokenizer(reg).tokenize(\" \".join(text))\n",
    "    return \" \".join(text)"
   ]
  },
  {
   "cell_type": "code",
   "execution_count": 105,
   "metadata": {},
   "outputs": [
    {
     "name": "stdout",
     "output_type": "stream",
     "text": [
      "Original ============================================\n",
      " following on from my recent question on  large, complex objects as a web service result . i have been thinking about how i can ensure all future child classes are serializable to xml. \n",
      " now, obviously i could implement the  ixmlserializable  interface and then chuck a reader/writer to it but i would like to avoid that since it then means i need to instantiate a reader/writer whenever i want to do it, and 99.99% of the time i am going to be working with a  string  so i may just write my own. \n",
      " however, to serialize to xml, i am simply decorating the class and its members with the  xml???  attributes (  xmlroot  ,  xmlelement  etc.) and then passing it to the  xmlserializer  and a  stringwriter  to get the string. which is all good. i intend to put the method to return the string into a generic utility method so i don't need to worry about type etc. \n",
      " the this that concerns me is this: if i do not decorate the class(es) with the required attributes an error is not thrown until run time. \n",
      " is there any way to enforce attribute decoration? can this be done with fxcop?  (i have not used fxcop yet) \n",
      " update: \n",
      " sorry for the delay in getting this close off guys, lots to do! \n",
      " definitely like the idea of using reflection to do it in a test case rather than resorting to fxcop (like to keep everything together)..  fredrik kalseth's answer  was fantastic, thanks for including the code as it probably would have taken me a bit of digging to figure out how to do it myself! \n",
      " +1 to the other guys for similar suggestions :) \n",
      "\n",
      "Parsed ==============================================\n",
      " following on from my recent question on  large, complex objects as a web service result . i have been thinking about how i can ensure all future child classes are serializable to xml. \n",
      " now, obviously i could implement the  ixmlserializable  interface and then chuck a reader/writer to it but i would like to avoid that since it then means i need to instantiate a reader/writer whenever i want to do it, and 99.99% of the time i am going to be working with a  string  so i may just write my own. \n",
      " however, to serialize to xml, i am simply decorating the class and its members with the  xml???  attributes (  xmlroot  ,  xmlelement  etc.) and then passing it to the  xmlserializer  and a  stringwriter  to get the string. which is all good. i intend to put the method to return the string into a generic utility method so i don't need to worry about type etc. \n",
      " the this that concerns me is this: if i do not decorate the class(es) with the required attributes an error is not thrown until run time. \n",
      " is there any way to enforce attribute decoration? can this be done with fxcop?  (i have not used fxcop yet) \n",
      " update: \n",
      " sorry for the delay in getting this close off guys, lots to do! \n",
      " definitely like the idea of using reflection to do it in a test case rather than resorting to fxcop (like to keep everything together)..  fredrik kalseth's answer  was fantastic, thanks for including the code as it probably would have taken me a bit of digging to figure out how to do it myself! \n",
      " +1 to the other guys for similar suggestions :) \n",
      "\n",
      "Targets ========== c#|xml|serialization|coding-style|.net-attributes\n"
     ]
    }
   ],
   "source": [
    "topics.example(interactive=False, index=0)"
   ]
  },
  {
   "cell_type": "markdown",
   "metadata": {},
   "source": [
    "J'avais donc au départ effectué plusieurs opération avec un système de version. Voici ce qui avait été fait :\n",
    "\n",
    "- Remarquer les poncutation et les traiter\n",
    "- Mise en place d'un système pour voir des examples (comme ci-dessus) mais de manière intéractive\n",
    "- Remarquer la négation \"n't\" qui est présente\n",
    "- Des mots qu'on aimerait peut être exclure car il n'apporte pas de plus value pour nos prédictions de tags comme par exemple : \"problem\", \"error\", \"get\", \"code\", \"like\"...\n",
    "    - Pour régler le problème de la négation, je me suis d'abord dit qu'il serait bien de supprimer les chaînes qui ont une longueur égale à 1. Mais rappelons un instant que le langage C comporte 1 seul caractère. Il n'est donc pas possible de procéder comme cela. On aimerait possiblement conserver la négation car cela pourrait être utile pour une phrase du genre : \"this is not Java\". On gardera dans un premier temps cette négation.\n",
    "    - Pour les mots qu'on aimerait exclure, je propose de mettre ces mots dans un fichier texte. Ils feront office de \"stopwords\" propres au projet (dans data/exclude.txt). On fera ce traitement si besoin par la suite "
   ]
  },
  {
   "attachments": {},
   "cell_type": "markdown",
   "metadata": {},
   "source": [
    "Regardons les mots les plus communs et identifions les mots inutiles"
   ]
  },
  {
   "cell_type": "code",
   "execution_count": 107,
   "metadata": {},
   "outputs": [
    {
     "name": "stderr",
     "output_type": "stream",
     "text": [
      "100%|██████████| 50000/50000 [00:06<00:00, 7991.44it/s]\n"
     ]
    },
    {
     "data": {
      "text/plain": [
       "[('', 4541145),\n",
       " ('\\n', 431357),\n",
       " ('the', 351536),\n",
       " ('to', 229916),\n",
       " ('i', 215914),\n",
       " ('a', 154977),\n",
       " ('is', 129702),\n",
       " ('=', 126924),\n",
       " ('and', 121076),\n",
       " ('in', 116366),\n",
       " ('of', 94373),\n",
       " ('this', 72351),\n",
       " ('that', 71221),\n",
       " ('it', 70324),\n",
       " ('for', 68690),\n",
       " ('{\\n', 59413),\n",
       " ('with', 54481),\n",
       " ('my', 53232),\n",
       " ('have', 49586),\n",
       " ('but', 49361)]"
      ]
     },
     "execution_count": 107,
     "metadata": {},
     "output_type": "execute_result"
    }
   ],
   "source": [
    "freq = topics.most_common(\"commons_v0\")\n",
    "freq.most_common(20)"
   ]
  },
  {
   "cell_type": "code",
   "execution_count": null,
   "metadata": {},
   "outputs": [
    {
     "data": {
      "application/vnd.jupyter.widget-view+json": {
       "model_id": "646bc078e0e24f81a983419002db4db7",
       "version_major": 2,
       "version_minor": 0
      },
      "text/plain": [
       "HBox(children=(Button(button_style='danger', description='Prev', style=ButtonStyle()), Button(button_style='su…"
      ]
     },
     "metadata": {},
     "output_type": "display_data"
    },
    {
     "name": "stdout",
     "output_type": "stream",
     "text": [
      "--------------- index=0\n",
      "Original ============================================\n",
      " following on from my recent question on  large, complex objects as a web service result . i have been thinking about how i can ensure all future child classes are serializable to xml. \n",
      " now, obviously i could implement the  ixmlserializable  interface and then chuck a reader/writer to it but i would like to avoid that since it then means i need to instantiate a reader/writer whenever i want to do it, and 99.99% of the time i am going to be working with a  string  so i may just write my own. \n",
      " however, to serialize to xml, i am simply decorating the class and its members with the  xml???  attributes (  xmlroot  ,  xmlelement  etc.) and then passing it to the  xmlserializer  and a  stringwriter  to get the string. which is all good. i intend to put the method to return the string into a generic utility method so i don't need to worry about type etc. \n",
      " the this that concerns me is this: if i do not decorate the class(es) with the required attributes an error is not thrown until run time. \n",
      " is there any way to enforce attribute decoration? can this be done with fxcop?  (i have not used fxcop yet) \n",
      " update: \n",
      " sorry for the delay in getting this close off guys, lots to do! \n",
      " definitely like the idea of using reflection to do it in a test case rather than resorting to fxcop (like to keep everything together)..  fredrik kalseth's answer  was fantastic, thanks for including the code as it probably would have taken me a bit of digging to figure out how to do it myself! \n",
      " +1 to the other guys for similar suggestions :) \n",
      "\n",
      "Parsed ==============================================\n",
      " following on from my recent question on  large, complex objects as a web service result . i have been thinking about how i can ensure all future child classes are serializable to xml. \n",
      " now, obviously i could implement the  ixmlserializable  interface and then chuck a reader/writer to it but i would like to avoid that since it then means i need to instantiate a reader/writer whenever i want to do it, and 99.99% of the time i am going to be working with a  string  so i may just write my own. \n",
      " however, to serialize to xml, i am simply decorating the class and its members with the  xml???  attributes (  xmlroot  ,  xmlelement  etc.) and then passing it to the  xmlserializer  and a  stringwriter  to get the string. which is all good. i intend to put the method to return the string into a generic utility method so i don't need to worry about type etc. \n",
      " the this that concerns me is this: if i do not decorate the class(es) with the required attributes an error is not thrown until run time. \n",
      " is there any way to enforce attribute decoration? can this be done with fxcop?  (i have not used fxcop yet) \n",
      " update: \n",
      " sorry for the delay in getting this close off guys, lots to do! \n",
      " definitely like the idea of using reflection to do it in a test case rather than resorting to fxcop (like to keep everything together)..  fredrik kalseth's answer  was fantastic, thanks for including the code as it probably would have taken me a bit of digging to figure out how to do it myself! \n",
      " +1 to the other guys for similar suggestions :) \n",
      "\n",
      "Targets ========== c#|xml|serialization|coding-style|.net-attributes\n"
     ]
    }
   ],
   "source": [
    "topics.example(index=1)"
   ]
  },
  {
   "attachments": {},
   "cell_type": "markdown",
   "metadata": {},
   "source": [
    "On a donc tous les outils en main pour commencer à effectuer des analyses plus poussées et effectuer des tests sur nos données."
   ]
  },
  {
   "cell_type": "code",
   "execution_count": 111,
   "metadata": {},
   "outputs": [
    {
     "name": "stderr",
     "output_type": "stream",
     "text": [
      "/home/alan/.cache/pypoetry/virtualenvs/oc--YnkylYD-py3.10/lib/python3.10/site-packages/cudf/core/series.py:3120: FutureWarning: `datetime_is_numeric` is deprecated and will be removed in a future release. Specify `datetime_is_numeric=True` to silence this warning and adopt the future behavior now.\n",
      "  warnings.warn(\n"
     ]
    },
    {
     "data": {
      "text/plain": [
       "count    50000.000000\n",
       "mean      1499.339720\n",
       "std       1973.431863\n",
       "min         14.000000\n",
       "5%         223.000000\n",
       "10%        309.000000\n",
       "25%        521.000000\n",
       "50%        932.000000\n",
       "75%       1708.000000\n",
       "90%       3087.100000\n",
       "95%       4492.150000\n",
       "97%       6390.075000\n",
       "max      30867.000000\n",
       "Name: text, dtype: float64"
      ]
     },
     "execution_count": 111,
     "metadata": {},
     "output_type": "execute_result"
    },
    {
     "data": {
      "image/png": "[encoded data removed]",
      "text/plain": [
       "<Figure size 800x500 with 1 Axes>"
      ]
     },
     "metadata": {},
     "output_type": "display_data"
    }
   ],
   "source": [
    "sententences_l = topics.df[\"text\"].str.len().sort_values()\n",
    "plt.figure(figsize=(8,5))\n",
    "plt.title(\"Text indece by their lengths\")\n",
    "plt.xlabel(\"Text indice\")\n",
    "plt.ylabel(\"Text length\")\n",
    "sententences_l.reset_index(drop=True).to_pandas().plot()\n",
    "sententences_l.describe(percentiles=[0.05, 0.1, 0.25, 0.5, 0.75, 0.9, 0.95, 0.975])"
   ]
  },
  {
   "attachments": {},
   "cell_type": "markdown",
   "metadata": {},
   "source": [
    "On remarque que quelques phrases sont très longues (2.5% avec l > 6992)"
   ]
  },
  {
   "cell_type": "code",
   "execution_count": 119,
   "metadata": {},
   "outputs": [
    {
     "name": "stdout",
     "output_type": "stream",
     "text": [
      "18412\n"
     ]
    }
   ],
   "source": [
    "target_list = topics.df[\"target\"].str.split(\"|\").explode()\n",
    "print(len(target_list.unique()))"
   ]
  },
  {
   "cell_type": "code",
   "execution_count": 113,
   "metadata": {},
   "outputs": [
    {
     "data": {
      "text/plain": [
       "Text(0, 0.5, 'Targets')"
      ]
     },
     "execution_count": 113,
     "metadata": {},
     "output_type": "execute_result"
    },
    {
     "data": {
      "image/png": "[encoded data removed]",
      "text/plain": [
       "<Figure size 1200x800 with 1 Axes>"
      ]
     },
     "metadata": {},
     "output_type": "display_data"
    }
   ],
   "source": [
    "target_list_counts = target_list.value_counts().sort_values()\n",
    "target_list_counts_tail = target_list_counts.tail(30)\n",
    "target_list_counts_tail.to_pandas().plot.barh()\n",
    "plt.title(\"Top 30 most commonly used tags in the dataset\")\n",
    "plt.xlabel(\"Counts\")\n",
    "plt.ylabel(\"Targets\")"
   ]
  },
  {
   "cell_type": "code",
   "execution_count": 114,
   "metadata": {},
   "outputs": [
    {
     "data": {
      "text/plain": [
       "gulp-protractor         1\n",
       "regexkit                1\n",
       "chain                   1\n",
       "peerjs                  1\n",
       "thephpleague-fractal    1\n",
       "                       ..\n",
       "mediastream             4\n",
       "ontology                4\n",
       "ormlite                 4\n",
       "sortedmap               4\n",
       "fread                   4\n",
       "Name: target, Length: 13014, dtype: int32"
      ]
     },
     "execution_count": 114,
     "metadata": {},
     "output_type": "execute_result"
    }
   ],
   "source": [
    "target_list_count_under_5 = target_list_counts[target_list_counts < 5]\n",
    "target_list_count_under_5"
   ]
  },
  {
   "attachments": {},
   "cell_type": "markdown",
   "metadata": {},
   "source": [
    "Certains targets ne seront certainement pas simple à trouver car seulement 5000 ont une fréquence de 5 ou +. On peut donc se demander si conserver autant d'éléments est utile. On verra par la suite ce que l'on fait"
   ]
  },
  {
   "cell_type": "code",
   "execution_count": 129,
   "metadata": {},
   "outputs": [
    {
     "data": {
      "text/plain": [
       "5    32792\n",
       "4    13095\n",
       "3     3416\n",
       "2      629\n",
       "1       61\n",
       "0        7\n",
       "dtype: int64"
      ]
     },
     "execution_count": 129,
     "metadata": {},
     "output_type": "execute_result"
    },
    {
     "data": {
      "image/png": "[encoded data removed]",
      "text/plain": [
       "<Figure size 800x500 with 1 Axes>"
      ]
     },
     "metadata": {},
     "output_type": "display_data"
    }
   ],
   "source": [
    "target_list_over_5 = target_list[~target_list.isin(target_list_count_under_5.index)]\n",
    "target_list_over_5_index_counts = cudf.Series(target_list_over_5.index).value_counts()\n",
    "target_list_over_5_target_count = target_list_over_5_index_counts.value_counts()\n",
    "target_list_over_5_target_count[0] = len(topics.df) - target_list_over_5_target_count.sum()\n",
    "plt.figure(figsize=(8,5))\n",
    "plt.title(\"Leftover targets number per text\\nafter removing low frequency targets (< 5)\")\n",
    "plt.yscale('log')\n",
    "target_list_over_5_target_count.to_pandas().plot(kind=\"bar\")\n",
    "plt.xlabel(\"Number of leftovers\")\n",
    "plt.ylabel(\"Number of texts\")\n",
    "target_list_over_5_target_count"
   ]
  },
  {
   "attachments": {},
   "cell_type": "markdown",
   "metadata": {},
   "source": [
    "De plus, si on retirait ces targets, 7 lignes n'auraient plus de target du tout."
   ]
  },
  {
   "attachments": {},
   "cell_type": "markdown",
   "metadata": {},
   "source": [
    "# Preprocessing avancé\n",
    "\n",
    "## Itération 1\n",
    "\n",
    "Dans cette partie on va regarder un peu plus notre dataset pour trouver des éléments mal preprocessé et noter l'index des phrases où l'on trouve ces cas"
   ]
  },
  {
   "cell_type": "code",
   "execution_count": 130,
   "metadata": {},
   "outputs": [
    {
     "data": {
      "application/vnd.jupyter.widget-view+json": {
       "model_id": "b46931356f1d45378b3ff68ce588d5d7",
       "version_major": 2,
       "version_minor": 0
      },
      "text/plain": [
       "HBox(children=(Button(button_style='danger', description='Prev', style=ButtonStyle()), Button(button_style='su…"
      ]
     },
     "metadata": {},
     "output_type": "display_data"
    },
    {
     "name": "stdout",
     "output_type": "stream",
     "text": [
      "--------------- index=1\n",
      "Original ============================================\n",
      " using c# .net 3.5 and wcf, i'm trying to write out some of the wcf configuration in a client application (the name of the server the client is connecting to). \n",
      " the obvious way is to use  configurationmanager  to load the configuration section and write out the data i need. \n",
      " var servicemodelsection = configurationmanager.getsection(\"system.servicemodel\");\n",
      " \n",
      " appears to always return null. \n",
      " var servicemodelsection = configurationmanager.getsection(\"appsettings\");\n",
      " \n",
      " works perfectly. \n",
      " the configuration section is present in the app.config but for some reason  configurationmanager  refuses to load the  system.servicemodel  section. \n",
      " i want to avoid manually loading the xxx.exe.config file and using xpath but if i have to resort to that i will.  just seems like a bit of a hack. \n",
      " any suggestions? \n",
      "\n",
      "Parsed ==============================================\n",
      " using c# .net 3.5 and wcf, i'm trying to write out some of the wcf configuration in a client application (the name of the server the client is connecting to). \n",
      " the obvious way is to use  configurationmanager  to load the configuration section and write out the data i need. \n",
      " var servicemodelsection = configurationmanager.getsection(\"system.servicemodel\");\n",
      " \n",
      " appears to always return null. \n",
      " var servicemodelsection = configurationmanager.getsection(\"appsettings\");\n",
      " \n",
      " works perfectly. \n",
      " the configuration section is present in the app.config but for some reason  configurationmanager  refuses to load the  system.servicemodel  section. \n",
      " i want to avoid manually loading the xxx.exe.config file and using xpath but if i have to resort to that i will.  just seems like a bit of a hack. \n",
      " any suggestions? \n",
      "\n",
      "Targets ========== c#|.net|xml|wcf|configurationmanager\n"
     ]
    }
   ],
   "source": [
    "topics.example(index=1)"
   ]
  },
  {
   "attachments": {},
   "cell_type": "markdown",
   "metadata": {},
   "source": [
    "J'ai effectué ce traitement sur mon dataset local qui, en plus, a changé entre temps. Ce qui compte malgré tout sont les problèmes que j'ai pu y repérer\n",
    "\n",
    "Voici donc les élément que nous devons maintenant traiter ainsi que l'index des phrases où le problème a été repéré :\n",
    "\n",
    "- Les nombres (2, 14)\n",
    "- Le \"#\" de C# est coupé (6)\n",
    "- Attention à ne pas supprimer délaisser des nombres importants comme 64 (8)\n",
    "- Dates peuvent être importantes (8)\n",
    "- Le \"++\" de C++ est coupé (10,30)\n",
    "- Il y a des urls (12,19,26,34,35,52,54)\n",
    "- Des morceaux de code sans block de code (12,13,26,27,52,500)\n",
    "- On supprime les balises \"code\" ce qui a pour effet de laisser certains textes un peu trop vide (14,19,20)\n",
    "\n",
    "Constats :\n",
    "- Certains éléments sont très compliqués à tagger même pour un être humain (9,11,500)\n",
    "- La négation est importants dans certains contextes (10)\n",
    "- Certains tags seront quasiement introuvable pour certaines situations. Il faudra habilement choisir une fonction de score (tous les exemples)"
   ]
  },
  {
   "cell_type": "code",
   "execution_count": 133,
   "metadata": {},
   "outputs": [
    {
     "data": {
      "text/plain": [
       "array(['j#', 'pkcs#1', 'visual-c++-2008', 'c++03', 'vb.net-to-c#',\n",
       "       'c++-modules', 'effective-c++', 'visual-c++-2013', 'c#-2.0',\n",
       "       'gtk#', 'c#', 'visual-c++-2008-express', 'visual-c++-2012',\n",
       "       'visual-c++', 'c++-standard-library', 'visual-c++-2017', 'dev-c++',\n",
       "       'c++20', 'pkcs#5', 'c++-winrt', 'c#-9.0', 'f#-3.1', 'c++11',\n",
       "       'c++builder-6', 'c#-3.0', 'visual-c++-2015', 'c++builder-2010',\n",
       "       'arduino-c++', 'g++4.9', 's#arp-architecture', 'c#-5.0', 'c#-6.0',\n",
       "       'c++', 'turbo-c++', 'visual-c++-2010', 'c++26', 'f#', 'notepad++',\n",
       "       'pkcs#8', 'objective-c++', 'c++builder-xe', 'gdi+',\n",
       "       'c#-native-library', 'visual-c#-express-2010', 'c#-4.0',\n",
       "       'libstdc++', 'c++17', 'managed-c++', 'pkcs#11', 'c#-to-vb.net',\n",
       "       'c++filt', 'f#-data', 'x++', 'facebook-c#-sdk', 'f#-interactive',\n",
       "       'c++-chrono', 'c++98', 'libc++', 'c++23', 'crypto++',\n",
       "       'visual-c++-6', 'visual-c++-runtime', 'c#-10.0', 'com+',\n",
       "       'c++-coroutine', 'clang++', 'spec#', 'g++-5', 'c#-to-f#',\n",
       "       'llvm-c++-api', 'c++builder', 'c++-cli', 'c#-7.0', 'c#-8.0',\n",
       "       'c++-concepts', 'c#-7.2', 'pkcs#7', 'pkcs#10', 'visual-c++-2005',\n",
       "       'pkcs#12', 'g++', 'c++14', 'c++-cx', 'c++-faq'], dtype='<U23')"
      ]
     },
     "execution_count": 133,
     "metadata": {},
     "output_type": "execute_result"
    }
   ],
   "source": [
    "chars = [\"#\", \"+\"]\n",
    "np.array([target\n",
    "        for target in set(target_list.to_pandas())\n",
    "        if pd.Series(chars).isin(list(target)).any()])"
   ]
  },
  {
   "attachments": {},
   "cell_type": "markdown",
   "metadata": {},
   "source": [
    "On remarque que beaucoup de targets ont des version (ex: \"c++-32\") associées à leur nom. J'ai bien peur que le fait que la version soit présente brouille la prédiction.\n",
    "\n",
    "On se rappellera d'un possible traitement à effectuer par la suite. Je suppose naivement que l'on ne souhaite pas forcément prédire la version spécifique en fonction d'une question mais plutôt juste le tag initial"
   ]
  },
  {
   "cell_type": "markdown",
   "metadata": {},
   "source": [
    "# Itération 2"
   ]
  },
  {
   "attachments": {},
   "cell_type": "markdown",
   "metadata": {},
   "source": [
    "La prochaine étape serait de s'intéresser à la balise code afin de rajouter de l'information.\n",
    "En effet, comme on l'a vu précédemment, certaines questions on vu la majorité de contenu se faire supprimer car la majorité était du code.\n",
    "\n",
    "On peut commencer par essayer, en fonction de la balise de code, de détecter le language qui y est présent.\n",
    "\n",
    "Après expérimentation avec les packages [guesslang](https://github.com/yoeo/guesslang) / [whats_that_code](https://github.com/matthewdeanmartin/whats_that_code) c'était très difficile. Le seule package qui m'apporte un peu d'espoir est [pygments](https://github.com/pygments/pygments) mais il a parfois de mauvaises prédictions.\n",
    "\n",
    "Je propose malgré tout de l'utiliser et de voir ce que cela donne.\n",
    "\n",
    "On va donc simplement remplacer la balise de code par le nom du langage détecté pour chaque morceaux de code."
   ]
  },
  {
   "cell_type": "code",
   "execution_count": 17,
   "metadata": {},
   "outputs": [
    {
     "data": {
      "application/vnd.jupyter.widget-view+json": {
       "model_id": "a06a4cc0be5b4e28964af608451457f7",
       "version_major": 2,
       "version_minor": 0
      },
      "text/plain": [
       "HBox(children=(Button(button_style='danger', description='Prev', style=ButtonStyle()), Button(button_style='su…"
      ]
     },
     "metadata": {},
     "output_type": "display_data"
    },
    {
     "name": "stdout",
     "output_type": "stream",
     "text": [
      "--------------- index=14\n",
      "Original ============================================\n",
      " Given this code: \n",
      " var arrayStrings = new string[1000];\n",
      "Parallel.ForEach<string>(arrayStrings, someString =>\n",
      "{\n",
      "    DoSomething(someString);\n",
      "});\n",
      " \n",
      " Will all 1000 threads spawn almost simultaneously? \n",
      "gdscript \n",
      "Parsed ==============================================\n",
      " given code 1000 thread spawn almost simultan gdscript\n",
      "Targets ========== c#|.net|multithreading|parallel-processing|parallel.foreach\n"
     ]
    }
   ],
   "source": [
    "Dataset.example(\"topics1.csv\", random_state=0, version=4, interactive=True, index=14)"
   ]
  },
  {
   "attachments": {},
   "cell_type": "markdown",
   "metadata": {},
   "source": [
    "D'après ce que je vois, ce n'est pas fameux.\n",
    "\n",
    "Supprimons les lettres uniques et la négation pour le moment sans enlever la lettre C qui correspond au langage."
   ]
  },
  {
   "cell_type": "code",
   "execution_count": 18,
   "metadata": {},
   "outputs": [
    {
     "data": {
      "application/vnd.jupyter.widget-view+json": {
       "model_id": "ef825a05d28040e0b71f7501aca1dbf8",
       "version_major": 2,
       "version_minor": 0
      },
      "text/plain": [
       "HBox(children=(Button(button_style='danger', description='Prev', style=ButtonStyle()), Button(button_style='su…"
      ]
     },
     "metadata": {},
     "output_type": "display_data"
    },
    {
     "name": "stdout",
     "output_type": "stream",
     "text": [
      "--------------- index=16\n",
      "Original ============================================\n",
      " I am trying to implement both  column resize  and  stick header . But sticky header works fine if I won't use the column resize. If I implement both, column resize is working but sticky header is not working.  \n",
      " I used the following css from primeng for the sticky header. \n",
      "   :host ::ng-deep .ui-table .ui-table-thead > tr > th {\n",
      "        position: -webkit-sticky;\n",
      "        position: sticky;\n",
      "        top: 70px;\n",
      "    }\n",
      "\n",
      "    @media screen and (max-width: 64em) {\n",
      "        :host ::ng-deep .ui-table .ui-table-thead > tr > th {\n",
      "            top: 100px;\n",
      "        }\n",
      "    }\n",
      " \n",
      " and for the colum resize I used the below code,  [resizableColumns]=\"true\" ,   pResizableColumn \n",
      "   <p-table [columns]=\"cols\" [value]=\"cars1\" [resizableColumns]=\"true\">\n",
      "    ...\n",
      "     <th *ngFor=\"let col of columns\" pResizableColumn>\n",
      " \n",
      " If I remove the  resizbleColumns  and  pResizableColumn  sticky header works fine. How can I make it works both things.? Here is the  stackblitz  and  Demo \n",
      "transact-sql transact-sql textonly transact-sql textonly textonly \n",
      "Parsed ==============================================\n",
      " tri implement column resiz stick header sticki header work fine wo use column resiz implement column resiz work sticki header work use follow css primeng sticki header colum resiz use code remov sticki header work fine make work thing stackblitz demo transact sql transact sql textonli transact sql textonli textonli\n",
      "Targets ========== html|css|angular|primeng|primeng-datatable\n"
     ]
    }
   ],
   "source": [
    "Dataset.example(\"topics1.csv\", random_state=0, version=5, interactive=True, index=16)"
   ]
  },
  {
   "attachments": {},
   "cell_type": "markdown",
   "metadata": {},
   "source": [
    "Je me dis qu'on peut certainement conserver la balise code ainsi que son contenu et espère que notre IA se rende compte que certains mots clés appartiennent à un langage spécifique (ex: \"def\" en python).\n",
    "\n",
    "Il y aura certainement encore des traitements à faire car dans le code il peut se passer plein de choses => Commentaires / Caractères spéciaux etc..."
   ]
  },
  {
   "cell_type": "code",
   "execution_count": 19,
   "metadata": {},
   "outputs": [
    {
     "data": {
      "application/vnd.jupyter.widget-view+json": {
       "model_id": "62902e06f1e34acb93a43e149dd45eb7",
       "version_major": 2,
       "version_minor": 0
      },
      "text/plain": [
       "HBox(children=(Button(button_style='danger', description='Prev', style=ButtonStyle()), Button(button_style='su…"
      ]
     },
     "metadata": {},
     "output_type": "display_data"
    },
    {
     "name": "stdout",
     "output_type": "stream",
     "text": [
      "--------------- index=17\n",
      "Original ============================================\n",
      " I'm serving \"sensitive\" information in downloadable PDF's and Spreadsheets within a user registration section of a site. \n",
      " Is there a way to allow the django authentication to secure this media  without  serving it (and not have to manually login using basic auth)? \n",
      " I'm guessing theres (fingers crossed)  not  a way to do it with the psuedo code below, but it helps better illustrate the end goal. \n",
      " #urls.py\n",
      "(r'^protected_media/(?P<filename>.*)$', 'protected_media')\n",
      "\n",
      "#views.py\n",
      "from django.contrib.auth.decorators import login_required\n",
      "\n",
      "@login_required\n",
      "def protected_media(request, filename):\n",
      "    # @login_required bounces you out to the login url\n",
      "    # if logged in, serve \"filename\" from Apache\n",
      " \n",
      "\n",
      "Parsed ==============================================\n",
      " serv sensit inform download pdf spreadsheet within user registr section site way allow django authent secur media without serv manual login use basic auth guess there finger cross way psuedo code help better illustr end goal url py r' protected_media filenam protected_media view py django contrib auth decor import login_requir login_requir def protected_media request filenam login_requir bounc login url log serv filenam apach\n",
      "Targets ========== django|apache|authentication|static|media\n"
     ]
    }
   ],
   "source": [
    "Dataset.example(\"topics1.csv\", random_state=0, version=6, interactive=True, index=17)"
   ]
  },
  {
   "attachments": {},
   "cell_type": "markdown",
   "metadata": {},
   "source": [
    "## Title\n",
    "\n",
    "Depuis le début je n'utilise pas le titre qui est certainement un des éléments les plus importants car c'est généralement là qu'on retrouve une information plus importante et cohérente avec les tags."
   ]
  },
  {
   "cell_type": "code",
   "execution_count": 5,
   "metadata": {},
   "outputs": [
    {
     "data": {
      "application/vnd.jupyter.widget-view+json": {
       "model_id": "af6d59fad32943619e507abb65bad68f",
       "version_major": 2,
       "version_minor": 0
      },
      "text/plain": [
       "HBox(children=(Button(button_style='danger', description='Prev', style=ButtonStyle()), Button(button_style='su…"
      ]
     },
     "metadata": {},
     "output_type": "display_data"
    },
    {
     "name": "stdout",
     "output_type": "stream",
     "text": [
      "--------------- index=3\n",
      "Original ============================================\n",
      " How can hibernate access a private field?\n",
      "Parsed ==============================================\n",
      " hibern access privat field\n",
      "Targets ========== java|hibernate|reflection|field|private\n"
     ]
    }
   ],
   "source": [
    "Dataset.example(\"topics1.csv\", random_state=0, version=7, interactive=True, mode=\"title\")"
   ]
  },
  {
   "attachments": {},
   "cell_type": "markdown",
   "metadata": {},
   "source": [
    "On remarque en effet que le titre est parfois plus pertinent"
   ]
  }
 ],
 "metadata": {
  "kernelspec": {
   "display_name": "oc",
   "language": "python",
   "name": "python3"
  },
  "language_info": {
   "codemirror_mode": {
    "name": "ipython",
    "version": 3
   },
   "file_extension": ".py",
   "mimetype": "text/x-python",
   "name": "python",
   "nbconvert_exporter": "python",
   "pygments_lexer": "ipython3",
   "version": "3.10.10"
  },
  "orig_nbformat": 4
 },
 "nbformat": 4,
 "nbformat_minor": 2
}
