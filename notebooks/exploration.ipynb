{
 "cells": [
  {
   "cell_type": "code",
   "execution_count": null,
   "metadata": {},
   "outputs": [],
   "source": [
    "from src.dataset import Dataset\n",
    "import matplotlib.pyplot as plt\n",
    "\n",
    "plt.style.use(['ggplot', 'https://raw.githubusercontent.com/AlanBlanchet/matplotlib_styles/master/vscode_blue.mplstyle'])\n",
    "\n",
    "Dataset.organize()"
   ]
  },
  {
   "attachments": {},
   "cell_type": "markdown",
   "metadata": {},
   "source": [
    "On peut faire une cellule de comparaison pour avoir un affichage des données brutes et des données traitées"
   ]
  },
  {
   "cell_type": "code",
   "execution_count": null,
   "metadata": {},
   "outputs": [],
   "source": [
    "# See data one by one\n",
    "dataset = Dataset.use(\"topics1.csv\", n_sample=1, original=True)\n",
    "\n",
    "print(\"Original \" + \"=\" * 40 + \"\\n\", dataset[\"original\"].values[0])\n",
    "\n",
    "print(\"Parsed \" + \"=\" * 40 + \"\\n\", str(dataset[\"text\"].values[0]))"
   ]
  }
 ],
 "metadata": {
  "kernelspec": {
   "display_name": "oc",
   "language": "python",
   "name": "python3"
  },
  "language_info": {
   "codemirror_mode": {
    "name": "ipython",
    "version": 3
   },
   "file_extension": ".py",
   "mimetype": "text/x-python",
   "name": "python",
   "nbconvert_exporter": "python",
   "pygments_lexer": "ipython3",
   "version": "3.9.16"
  },
  "orig_nbformat": 4
 },
 "nbformat": 4,
 "nbformat_minor": 2
}
