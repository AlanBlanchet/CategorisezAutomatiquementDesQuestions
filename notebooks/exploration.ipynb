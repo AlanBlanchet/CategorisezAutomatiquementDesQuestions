{
 "cells": [
  {
   "attachments": {},
   "cell_type": "markdown",
   "metadata": {},
   "source": [
    "# Exploration\n",
    "\n",
    "Dans cette partie on va donc explorer nos données afin de se familiariser avec le dataset.\n",
    "\n",
    "Pour cette exploration j'utilise une variable `version` qui me permet d'avoir le même résultat par rapport à la version du script que je souhaite utiliser.\n",
    "\n",
    "En interne certaines actions sont effectuées sur le dataset suivant la version. Cela me permet de montrer ma démarche et la progression des traitements / explorations du dataset."
   ]
  },
  {
   "cell_type": "code",
   "execution_count": 113,
   "metadata": {},
   "outputs": [
    {
     "name": "stdout",
     "output_type": "stream",
     "text": [
      "The autoreload extension is already loaded. To reload it, use:\n",
      "  %reload_ext autoreload\n"
     ]
    },
    {
     "data": {
      "text/plain": [
       "src.dataset.dataset.Dataset"
      ]
     },
     "execution_count": 113,
     "metadata": {},
     "output_type": "execute_result"
    }
   ],
   "source": [
    "%load_ext autoreload\n",
    "%autoreload 2\n",
    "from src.dataset import Dataset\n",
    "import matplotlib.pyplot as plt\n",
    "import numpy as np\n",
    "import pandas as pd\n",
    "\n",
    "plt.style.use(['ggplot', 'https://raw.githubusercontent.com/AlanBlanchet/matplotlib_styles/master/vscode_blue.mplstyle'])\n",
    "\n",
    "Dataset.init()"
   ]
  },
  {
   "attachments": {},
   "cell_type": "markdown",
   "metadata": {},
   "source": [
    "On peut faire une cellule de comparaison pour avoir un affichage des données brutes et des données traitées"
   ]
  },
  {
   "cell_type": "code",
   "execution_count": 3,
   "metadata": {},
   "outputs": [
    {
     "name": "stdout",
     "output_type": "stream",
     "text": [
      "Original ============================================\n",
      " I have devise authentication and registration set up on my Rails app. I'm using   to customise the redirect when the user signs in based on various scenarios. \n",
      " What I'm asking is how to test this method? It seems hard to isolate since it is called automatically by Devise when the user signes in. I want to do something like this: \n",
      " \n",
      " but that's obviously not the way to do it because I just get an error: \n",
      " \n",
      " So, how can I test this method? \n",
      "\n",
      "Parsed ==============================================\n",
      " devis authent registr set rail app m use customis redirect user sign base variou scenario m ask test method seem hard isol sinc call automat devis user sign want someth like s obvious way get error test method\n"
     ]
    }
   ],
   "source": [
    "Dataset.example(\"topics1.csv\", random_state=0, version=1)"
   ]
  },
  {
   "attachments": {},
   "cell_type": "markdown",
   "metadata": {},
   "source": [
    "Regardons les mots les plus communs et identifions les mots inutiles"
   ]
  },
  {
   "cell_type": "code",
   "execution_count": 7,
   "metadata": {},
   "outputs": [
    {
     "name": "stderr",
     "output_type": "stream",
     "text": [
      "100%|██████████| 50000/50000 [00:01<00:00, 26925.30it/s]\n"
     ]
    },
    {
     "data": {
      "text/plain": [
       "[('.', 241604),\n",
       " (',', 206128),\n",
       " (':', 105975),\n",
       " (')', 68733),\n",
       " ('?', 68077),\n",
       " ('(', 66522),\n",
       " ('use', 63834),\n",
       " (\"n't\", 30743),\n",
       " (\"'m\", 27809),\n",
       " ('like', 26864),\n",
       " ('work', 26846),\n",
       " ('code', 26309),\n",
       " ('tri', 25970),\n",
       " (\"'s\", 25740),\n",
       " ('get', 24747),\n",
       " ('file', 22418),\n",
       " (\"''\", 21010),\n",
       " ('would', 20275),\n",
       " ('``', 20155),\n",
       " ('want', 18073)]"
      ]
     },
     "execution_count": 7,
     "metadata": {},
     "output_type": "execute_result"
    }
   ],
   "source": [
    "freq = Dataset.most_common(\"commons_v0\", version=1)\n",
    "freq.most_common(20)"
   ]
  },
  {
   "attachments": {},
   "cell_type": "markdown",
   "metadata": {},
   "source": [
    "On remarque dors et déjà qu'on a des ponctuations.\n",
    "\n",
    "J'ai bien envie de faire un système pour pouvoir voir les phrases en brute et les voir en preprocessé pour voir la différence et comprendre certains cas. On peut donc retirer ces ponctuations puis regarder quelques examples qui nous permettrons d'avancer."
   ]
  },
  {
   "cell_type": "code",
   "execution_count": 10,
   "metadata": {},
   "outputs": [
    {
     "name": "stderr",
     "output_type": "stream",
     "text": [
      "100%|██████████| 50000/50000 [00:01<00:00, 29378.56it/s]\n"
     ]
    },
    {
     "data": {
      "text/plain": [
       "[('thi', 68513),\n",
       " ('use', 62186),\n",
       " ('n', 32215),\n",
       " ('t', 31421),\n",
       " ('m', 28153),\n",
       " ('like', 26856),\n",
       " ('code', 26733),\n",
       " ('tri', 25153),\n",
       " ('get', 24847),\n",
       " ('work', 23945),\n",
       " ('file', 21107),\n",
       " ('ani', 20344),\n",
       " ('would', 20285),\n",
       " ('want', 18020),\n",
       " ('way', 17129),\n",
       " ('one', 16007),\n",
       " ('error', 15792),\n",
       " ('need', 15097),\n",
       " ('run', 14975),\n",
       " ('problem', 13729)]"
      ]
     },
     "execution_count": 10,
     "metadata": {},
     "output_type": "execute_result"
    }
   ],
   "source": [
    "freq = Dataset.most_common(\"commons_v0\", version=2)\n",
    "freq.most_common(20)"
   ]
  },
  {
   "attachments": {},
   "cell_type": "markdown",
   "metadata": {},
   "source": [
    "On remarque déjà qu'il y a le \"n't\" qui correspond à une négation.\n",
    "\n",
    "Il y a également des mots qu'on aimerait certainement exclure car il n'apporte par de plus value pour nos prédictions de tags comme par exemple : \"problem\", \"error\", \"get\", \"code\", \"like\"...\n",
    "\n",
    "Pour régler le problème de la négation, je me suis d'abord dit qu'il serait bien de supprimer les chaînes qui ont une longueur égale à 1. Mais rappelons un instant que le langage C comporte 1 seul caractère. Il n'est donc pas possible de procéder comme cela. On aimerait possiblement conserver la négation car cela pourrait être utile pour une phrase du genre : \"this is not Java\". On gardera dans un premier temps cette négation.\n",
    "\n",
    "Pour les mots qu'on aimerait exclure, je propose de mettre ces mots dans un fichier texte. Ils feront office de \"stopwords\" propres au projet. (dans data/exclude.txt)"
   ]
  },
  {
   "cell_type": "code",
   "execution_count": null,
   "metadata": {},
   "outputs": [
    {
     "data": {
      "application/vnd.jupyter.widget-view+json": {
       "model_id": "76e08afd5d454aaf8b0c953467a6ce12",
       "version_major": 2,
       "version_minor": 0
      },
      "text/plain": [
       "HBox(children=(Button(button_style='danger', description='Prev', style=ButtonStyle()), Button(button_style='su…"
      ]
     },
     "metadata": {},
     "output_type": "display_data"
    },
    {
     "name": "stdout",
     "output_type": "stream",
     "text": [
      "--------------- index=3\n",
      "Original ============================================\n",
      " How can hibernate can access a private field/method of a java class , for example to set the @Id ? \n",
      " Thanks \n",
      "\n",
      "Parsed ==============================================\n",
      " hibern access privat field/method java class , exampl set @ id ? thank\n",
      "Targets ========== java;hibernate;reflection;field;private\n",
      "None\n"
     ]
    }
   ],
   "source": [
    "Dataset.example(\"topics1.csv\", random_state=0, version=1, interactive=True, index=1)"
   ]
  },
  {
   "attachments": {},
   "cell_type": "markdown",
   "metadata": {},
   "source": [
    "On a donc tous les outils en main pour commencer à effectuer des analyses plus poussées et effectuer des tests sur nos données."
   ]
  },
  {
   "cell_type": "code",
   "execution_count": 34,
   "metadata": {},
   "outputs": [
    {
     "data": {
      "text/html": [
       "<div>\n",
       "<style scoped>\n",
       "    .dataframe tbody tr th:only-of-type {\n",
       "        vertical-align: middle;\n",
       "    }\n",
       "\n",
       "    .dataframe tbody tr th {\n",
       "        vertical-align: top;\n",
       "    }\n",
       "\n",
       "    .dataframe thead th {\n",
       "        text-align: right;\n",
       "    }\n",
       "</style>\n",
       "<table border=\"1\" class=\"dataframe\">\n",
       "  <thead>\n",
       "    <tr style=\"text-align: right;\">\n",
       "      <th></th>\n",
       "      <th>title</th>\n",
       "      <th>text</th>\n",
       "      <th>target</th>\n",
       "    </tr>\n",
       "  </thead>\n",
       "  <tbody>\n",
       "    <tr>\n",
       "      <th>0</th>\n",
       "      <td>Emacs ido-style shell</td>\n",
       "      <td>&lt;p&gt;Is there a command line shell or shell cust...</td>\n",
       "      <td>bash;shell;emacs;eshell;ido</td>\n",
       "    </tr>\n",
       "    <tr>\n",
       "      <th>1</th>\n",
       "      <td>Include Google Maps API Key in open source pro...</td>\n",
       "      <td>&lt;p&gt;Is it okay to put your Google Maps API Key ...</td>\n",
       "      <td>security;api;open-source;google-maps;publish</td>\n",
       "    </tr>\n",
       "    <tr>\n",
       "      <th>2</th>\n",
       "      <td>How do I do large non-blocking updates in Post...</td>\n",
       "      <td>&lt;p&gt;I want to do a large update on a table in P...</td>\n",
       "      <td>postgresql;transactions;sql-update;plpgsql;dblink</td>\n",
       "    </tr>\n",
       "    <tr>\n",
       "      <th>3</th>\n",
       "      <td>How can hibernate access a private field?</td>\n",
       "      <td>&lt;p&gt;How can hibernate can access a private fiel...</td>\n",
       "      <td>java;hibernate;reflection;field;private</td>\n",
       "    </tr>\n",
       "    <tr>\n",
       "      <th>4</th>\n",
       "      <td>How to add NSViewController to a responder chain?</td>\n",
       "      <td>&lt;p&gt;I'm having hard time understanding and find...</td>\n",
       "      <td>objective-c;macos;cocoa;nsviewcontroller;nsres...</td>\n",
       "    </tr>\n",
       "  </tbody>\n",
       "</table>\n",
       "</div>"
      ],
      "text/plain": [
       "                                               title   \n",
       "0                              Emacs ido-style shell  \\\n",
       "1  Include Google Maps API Key in open source pro...   \n",
       "2  How do I do large non-blocking updates in Post...   \n",
       "3          How can hibernate access a private field?   \n",
       "4  How to add NSViewController to a responder chain?   \n",
       "\n",
       "                                                text   \n",
       "0  <p>Is there a command line shell or shell cust...  \\\n",
       "1  <p>Is it okay to put your Google Maps API Key ...   \n",
       "2  <p>I want to do a large update on a table in P...   \n",
       "3  <p>How can hibernate can access a private fiel...   \n",
       "4  <p>I'm having hard time understanding and find...   \n",
       "\n",
       "                                              target  \n",
       "0                        bash;shell;emacs;eshell;ido  \n",
       "1       security;api;open-source;google-maps;publish  \n",
       "2  postgresql;transactions;sql-update;plpgsql;dblink  \n",
       "3            java;hibernate;reflection;field;private  \n",
       "4  objective-c;macos;cocoa;nsviewcontroller;nsres...  "
      ]
     },
     "execution_count": 34,
     "metadata": {},
     "output_type": "execute_result"
    }
   ],
   "source": [
    "df = Dataset.use(\"topics1.csv\", version=0)\n",
    "df.head()"
   ]
  },
  {
   "cell_type": "code",
   "execution_count": 143,
   "metadata": {},
   "outputs": [
    {
     "data": {
      "text/plain": [
       "count    50000.000000\n",
       "mean      1683.321440\n",
       "std       2098.184664\n",
       "min         21.000000\n",
       "5%         250.000000\n",
       "10%        353.000000\n",
       "25%        607.000000\n",
       "50%       1077.000000\n",
       "75%       1955.000000\n",
       "90%       3485.000000\n",
       "95%       4986.000000\n",
       "97.5%     6992.000000\n",
       "max      48656.000000\n",
       "Name: text, dtype: float64"
      ]
     },
     "execution_count": 143,
     "metadata": {},
     "output_type": "execute_result"
    },
    {
     "data": {
      "image/png": "[encoded data removed]",
      "text/plain": [
       "<Figure size 800x500 with 1 Axes>"
      ]
     },
     "metadata": {},
     "output_type": "display_data"
    }
   ],
   "source": [
    "sententences_l = df.text.str.len().sort_values()\n",
    "plt.figure(figsize=(8,5))\n",
    "plt.title(\"Text indece by their lengths\")\n",
    "plt.xlabel(\"Text indice\")\n",
    "plt.ylabel(\"Text length\")\n",
    "sententences_l.reset_index(drop=True).plot()\n",
    "sententences_l.describe(percentiles=[0.05, 0.1, 0.25, 0.5, 0.75, 0.9, 0.95, 0.975])"
   ]
  },
  {
   "attachments": {},
   "cell_type": "markdown",
   "metadata": {},
   "source": [
    "On remarque que quelques phrases sont très longues (2.5% avec l > 6992)"
   ]
  },
  {
   "cell_type": "code",
   "execution_count": 68,
   "metadata": {},
   "outputs": [
    {
     "name": "stdout",
     "output_type": "stream",
     "text": [
      "18467\n"
     ]
    }
   ],
   "source": [
    "target_list = df.target.str.split(\"|\").explode()\n",
    "print(len(target_list.unique()))"
   ]
  },
  {
   "cell_type": "code",
   "execution_count": 76,
   "metadata": {},
   "outputs": [
    {
     "data": {
      "text/plain": [
       "target\n",
       "google-api-nodejs-client    1\n",
       "luxon                       1\n",
       "empty-list                  1\n",
       "google-cloud-armor          1\n",
       "boost-tuples                1\n",
       "                           ..\n",
       "sqlgeography                4\n",
       "code-golf                   4\n",
       "temporary-objects           4\n",
       "database-agnostic           4\n",
       "bower-install               4\n",
       "Name: count, Length: 13097, dtype: int64"
      ]
     },
     "execution_count": 76,
     "metadata": {},
     "output_type": "execute_result"
    }
   ],
   "source": [
    "target_list_counts = target_list.value_counts().sort_values()\n",
    "target_list_count_under_5 = target_list_counts[target_list_counts < 5]\n",
    "target_list_count_under_5"
   ]
  },
  {
   "attachments": {},
   "cell_type": "markdown",
   "metadata": {},
   "source": [
    "Certains targets ne seront certainement pas simple à trouver car seulement 5000 ont une fréquence de 5 ou +. On peut donc se demander si conserver autant d'éléments est utile. On verra par la suite ce que l'on fait"
   ]
  },
  {
   "cell_type": "code",
   "execution_count": 154,
   "metadata": {},
   "outputs": [
    {
     "data": {
      "text/plain": [
       "count\n",
       "5    32593\n",
       "4    13319\n",
       "3     3381\n",
       "2      627\n",
       "1       68\n",
       "0       12\n",
       "Name: count, dtype: int64"
      ]
     },
     "execution_count": 154,
     "metadata": {},
     "output_type": "execute_result"
    },
    {
     "data": {
      "image/png": "[encoded data removed]",
      "text/plain": [
       "<Figure size 800x500 with 1 Axes>"
      ]
     },
     "metadata": {},
     "output_type": "display_data"
    }
   ],
   "source": [
    "target_list_over_5 = target_list[~target_list.isin(target_list_count_under_5.index)]\n",
    "target_list_over_5_target_count = pd.Series(target_list_over_5.index.value_counts()).value_counts()\n",
    "target_list_over_5_target_count[0] = len(df) - target_list_over_5_target_count.sum()\n",
    "plt.figure(figsize=(8,5))\n",
    "plt.title(\"Leftover targets number per text\\nafter removing low frequency targets (< 5)\")\n",
    "plt.yscale('log')\n",
    "target_list_over_5_target_count.plot(kind=\"bar\")\n",
    "plt.xlabel(\"Number of leftovers\")\n",
    "plt.ylabel(\"Number of texts\")\n",
    "target_list_over_5_target_count"
   ]
  },
  {
   "attachments": {},
   "cell_type": "markdown",
   "metadata": {},
   "source": [
    "De plus, si on retirait ces targets, 12 lignes n'auraient plus de target du tout."
   ]
  }
 ],
 "metadata": {
  "kernelspec": {
   "display_name": "oc",
   "language": "python",
   "name": "python3"
  },
  "language_info": {
   "codemirror_mode": {
    "name": "ipython",
    "version": 3
   },
   "file_extension": ".py",
   "mimetype": "text/x-python",
   "name": "python",
   "nbconvert_exporter": "python",
   "pygments_lexer": "ipython3",
   "version": "3.9.16"
  },
  "orig_nbformat": 4
 },
 "nbformat": 4,
 "nbformat_minor": 2
}
