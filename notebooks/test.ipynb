{
 "cells": [
  {
   "cell_type": "code",
   "execution_count": 12,
   "metadata": {},
   "outputs": [
    {
     "name": "stdout",
     "output_type": "stream",
     "text": [
      "The autoreload extension is already loaded. To reload it, use:\n",
      "  %reload_ext autoreload\n"
     ]
    },
    {
     "data": {
      "text/plain": [
       "src.dataset.dataset.Dataset"
      ]
     },
     "execution_count": 12,
     "metadata": {},
     "output_type": "execute_result"
    }
   ],
   "source": [
    "%load_ext autoreload\n",
    "%autoreload 2\n",
    "from src.dataset import Dataset\n",
    "import matplotlib.pyplot as plt\n",
    "\n",
    "plt.style.use(['ggplot', 'https://raw.githubusercontent.com/AlanBlanchet/matplotlib_styles/master/vscode_blue.mplstyle'])\n",
    "\n",
    "Dataset.init()"
   ]
  },
  {
   "cell_type": "code",
   "execution_count": null,
   "metadata": {},
   "outputs": [
    {
     "data": {
      "application/vnd.jupyter.widget-view+json": {
       "model_id": "36be7e4a314540b98d9ad550ef95bf35",
       "version_major": 2,
       "version_minor": 0
      },
      "text/plain": [
       "HBox(children=(Button(button_style='danger', description='Prev', style=ButtonStyle()), Button(button_style='su…"
      ]
     },
     "metadata": {},
     "output_type": "display_data"
    },
    {
     "name": "stdout",
     "output_type": "stream",
     "text": [
      "--------------- index=1\n",
      "Original ============================================\n",
      " Is it okay to put your Google Maps API Key into your source code and publish it? \n",
      " Others could take it and misuse it, but I don't want every developer / user to get their own API key and type it in somewhere. If the owner of the key is responsible, should I create a new google account for the project? (The project is a desktop application in Objective-C and a small developer tool.) \n",
      " What would be the best way to make this convenient? \n",
      "\n",
      "Parsed ==============================================\n",
      " okay put googl map api key sourc code publish other could take misus n t want everi develop user get api key type somewher owner key respons creat new googl account project project desktop applic object c small develop tool would best way make conveni\n",
      "Targets ========== security|api|open-source|google-maps|publish\n",
      "None\n"
     ]
    }
   ],
   "source": [
    "Dataset.example(\"topics1.csv\", random_state=0, version=2, interactive=True)"
   ]
  },
  {
   "attachments": {},
   "cell_type": "markdown",
   "metadata": {},
   "source": [
    "Voici les types d'approches à tester :\n",
    "\n",
    "- Bag of Words (BoW) pour nous\n",
    "- Word Embeddings : Word2Vec"
   ]
  },
  {
   "attachments": {},
   "cell_type": "markdown",
   "metadata": {},
   "source": [
    "## Bag of Words\n",
    "\n",
    "Dans cet partie on va effectuer un bag of words avec tous les mots que l'on a."
   ]
  },
  {
   "cell_type": "code",
   "execution_count": 10,
   "metadata": {},
   "outputs": [
    {
     "data": {
      "text/html": [
       "<div>\n",
       "<style scoped>\n",
       "    .dataframe tbody tr th:only-of-type {\n",
       "        vertical-align: middle;\n",
       "    }\n",
       "\n",
       "    .dataframe tbody tr th {\n",
       "        vertical-align: top;\n",
       "    }\n",
       "\n",
       "    .dataframe thead th {\n",
       "        text-align: right;\n",
       "    }\n",
       "</style>\n",
       "<table border=\"1\" class=\"dataframe\">\n",
       "  <thead>\n",
       "    <tr style=\"text-align: right;\">\n",
       "      <th></th>\n",
       "      <th>title</th>\n",
       "      <th>text</th>\n",
       "      <th>target</th>\n",
       "    </tr>\n",
       "  </thead>\n",
       "  <tbody>\n",
       "    <tr>\n",
       "      <th>0</th>\n",
       "      <td>Emacs ido-style shell</td>\n",
       "      <td>command line shell shell custom support emac s...</td>\n",
       "      <td>bash|shell|emacs|eshell|ido</td>\n",
       "    </tr>\n",
       "    <tr>\n",
       "      <th>1</th>\n",
       "      <td>Include Google Maps API Key in open source pro...</td>\n",
       "      <td>okay put googl map api key sourc code publish ...</td>\n",
       "      <td>security|api|open-source|google-maps|publish</td>\n",
       "    </tr>\n",
       "    <tr>\n",
       "      <th>2</th>\n",
       "      <td>How do I do large non-blocking updates in Post...</td>\n",
       "      <td>want larg updat tabl postgresql n t need trans...</td>\n",
       "      <td>postgresql|transactions|sql-update|plpgsql|dblink</td>\n",
       "    </tr>\n",
       "    <tr>\n",
       "      <th>3</th>\n",
       "      <td>How can hibernate access a private field?</td>\n",
       "      <td>hibern access privat field method java class e...</td>\n",
       "      <td>java|hibernate|reflection|field|private</td>\n",
       "    </tr>\n",
       "    <tr>\n",
       "      <th>4</th>\n",
       "      <td>How to add NSViewController to a responder chain?</td>\n",
       "      <td>m hard time understand find info make nsviewco...</td>\n",
       "      <td>objective-c|macos|cocoa|nsviewcontroller|nsres...</td>\n",
       "    </tr>\n",
       "  </tbody>\n",
       "</table>\n",
       "</div>"
      ],
      "text/plain": [
       "                                               title   \n",
       "0                              Emacs ido-style shell  \\\n",
       "1  Include Google Maps API Key in open source pro...   \n",
       "2  How do I do large non-blocking updates in Post...   \n",
       "3          How can hibernate access a private field?   \n",
       "4  How to add NSViewController to a responder chain?   \n",
       "\n",
       "                                                text   \n",
       "0  command line shell shell custom support emac s...  \\\n",
       "1  okay put googl map api key sourc code publish ...   \n",
       "2  want larg updat tabl postgresql n t need trans...   \n",
       "3  hibern access privat field method java class e...   \n",
       "4  m hard time understand find info make nsviewco...   \n",
       "\n",
       "                                              target  \n",
       "0                        bash|shell|emacs|eshell|ido  \n",
       "1       security|api|open-source|google-maps|publish  \n",
       "2  postgresql|transactions|sql-update|plpgsql|dblink  \n",
       "3            java|hibernate|reflection|field|private  \n",
       "4  objective-c|macos|cocoa|nsviewcontroller|nsres...  "
      ]
     },
     "execution_count": 10,
     "metadata": {},
     "output_type": "execute_result"
    }
   ],
   "source": [
    "df = Dataset.use(\"topics1.csv\", version=2)\n",
    "df.head()"
   ]
  }
 ],
 "metadata": {
  "kernelspec": {
   "display_name": "oc",
   "language": "python",
   "name": "python3"
  },
  "language_info": {
   "codemirror_mode": {
    "name": "ipython",
    "version": 3
   },
   "file_extension": ".py",
   "mimetype": "text/x-python",
   "name": "python",
   "nbconvert_exporter": "python",
   "pygments_lexer": "ipython3",
   "version": "3.9.16"
  },
  "orig_nbformat": 4
 },
 "nbformat": 4,
 "nbformat_minor": 2
}
